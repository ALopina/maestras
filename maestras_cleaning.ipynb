{
 "cells": [
  {
   "cell_type": "code",
   "execution_count": 1,
   "id": "61f03dbf-784f-4418-8049-59514a003971",
   "metadata": {},
   "outputs": [],
   "source": [
    "import pandas as pd\n",
    "import plotly.express as px\n",
    "import matplotlib.pyplot as plt\n",
    "import re\n",
    "from wordcloud import WordCloud\n",
    "import plotly.graph_objects as go\n",
    "from plotly.subplots import make_subplots\n",
    "\n",
    "import warnings\n",
    "warnings.filterwarnings('ignore')"
   ]
  },
  {
   "cell_type": "code",
   "execution_count": 2,
   "id": "6224ce74-01a9-4ded-9d8f-342a5567eed8",
   "metadata": {},
   "outputs": [
    {
     "data": {
      "text/plain": [
       "Unnamed: 0               int64\n",
       "Artist                  object\n",
       "Bio                     object\n",
       "Birth Year               int64\n",
       "Death Year               int64\n",
       "From Artists Family       bool\n",
       "Early Talent              bool\n",
       "Academy                   bool\n",
       "Formed Other Artists      bool\n",
       "Equality Activist         bool\n",
       "Traveler                  bool\n",
       "Prolific                  bool\n",
       "Writings                  bool\n",
       "Own Museum                bool\n",
       "Score                    int64\n",
       "Century                  int64\n",
       "dtype: object"
      ]
     },
     "execution_count": 2,
     "metadata": {},
     "output_type": "execute_result"
    }
   ],
   "source": [
    "df = pd.read_csv('../../repo/maestras/data/maestras.csv')\n",
    "df.dtypes"
   ]
  },
  {
   "cell_type": "code",
   "execution_count": 250,
   "id": "513e8490-88f2-467a-9100-e3aa53e554cc",
   "metadata": {},
   "outputs": [],
   "source": [
    "boolean_columns = ['From Artists Family', 'Early Talent', 'Academy', 'Formed Other Artists', 'Equality Activist', 'Traveler', 'Prolific',\n",
    "                   'Writings', 'Own Museum']\n",
    "df[boolean_columns] = df[boolean_columns].replace({'True': True, pd.NA: False}).astype(bool)"
   ]
  },
  {
   "cell_type": "code",
   "execution_count": 251,
   "id": "d65ee3d6-3ebd-4669-a5a0-641af3c6f772",
   "metadata": {},
   "outputs": [
    {
     "data": {
      "text/plain": [
       "Artist                   object\n",
       "Bio                      object\n",
       "Birth Year                int64\n",
       "Death Year              float64\n",
       "From Artists Family        bool\n",
       "Early Talent               bool\n",
       "Academy                    bool\n",
       "Formed Other Artists       bool\n",
       "Equality Activist          bool\n",
       "Traveler                   bool\n",
       "Prolific                   bool\n",
       "Writings                   bool\n",
       "Own Museum                 bool\n",
       "dtype: object"
      ]
     },
     "execution_count": 251,
     "metadata": {},
     "output_type": "execute_result"
    }
   ],
   "source": [
    "df.dtypes"
   ]
  },
  {
   "cell_type": "code",
   "execution_count": 252,
   "id": "a40dfcc8-af6b-47a5-8337-ecd4d1191522",
   "metadata": {},
   "outputs": [],
   "source": [
    "df['Score'] = df[boolean_columns].sum(axis=1)"
   ]
  },
  {
   "cell_type": "code",
   "execution_count": null,
   "id": "2c3945e5-c5f3-4692-ad49-d60da1dd8eb8",
   "metadata": {},
   "outputs": [],
   "source": [
    "df['Century'] = ((df['Birth Year'] + 20) // 100) + 1"
   ]
  },
  {
   "cell_type": "code",
   "execution_count": 261,
   "id": "f7064cda-72cc-4820-ab65-733bc5fcd649",
   "metadata": {},
   "outputs": [
    {
     "ename": "AttributeError",
     "evalue": "'NoneType' object has no attribute 'to_csv'",
     "output_type": "error",
     "traceback": [
      "\u001b[0;31m---------------------------------------------------------------------------\u001b[0m",
      "\u001b[0;31mAttributeError\u001b[0m                            Traceback (most recent call last)",
      "Cell \u001b[0;32mIn[261], line 1\u001b[0m\n\u001b[0;32m----> 1\u001b[0m \u001b[43mdf\u001b[49m\u001b[38;5;241;43m.\u001b[39;49m\u001b[43mto_csv\u001b[49m(\u001b[38;5;124m'\u001b[39m\u001b[38;5;124m../../finalProject_/da_alex_final/data/maestras.csv\u001b[39m\u001b[38;5;124m'\u001b[39m)\n",
      "\u001b[0;31mAttributeError\u001b[0m: 'NoneType' object has no attribute 'to_csv'"
     ]
    }
   ],
   "source": [
    "df.to_csv('../../repo/maestras/data/maestras.csv')"
   ]
  }
 ],
 "metadata": {
  "kernelspec": {
   "display_name": "Python 3 (ipykernel)",
   "language": "python",
   "name": "python3"
  },
  "language_info": {
   "codemirror_mode": {
    "name": "ipython",
    "version": 3
   },
   "file_extension": ".py",
   "mimetype": "text/x-python",
   "name": "python",
   "nbconvert_exporter": "python",
   "pygments_lexer": "ipython3",
   "version": "3.8.18"
  }
 },
 "nbformat": 4,
 "nbformat_minor": 5
}
